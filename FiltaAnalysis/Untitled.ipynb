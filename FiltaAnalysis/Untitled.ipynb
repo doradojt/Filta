{
 "cells": [
  {
   "cell_type": "code",
   "execution_count": 3,
   "metadata": {},
   "outputs": [],
   "source": [
    "import pandas as pd\n",
    "import os\n",
    "import numpy as np\n",
    "import matplotlib.pyplot as plt"
   ]
  },
  {
   "cell_type": "code",
   "execution_count": 4,
   "metadata": {},
   "outputs": [],
   "source": [
    "file = \"NJ-12 Monmouth County.csv\"\n",
    "pafile = \"PAETL.csv\""
   ]
  },
  {
   "cell_type": "code",
   "execution_count": 5,
   "metadata": {},
   "outputs": [],
   "source": [
    "file_df = pd.read_csv(file)\n",
    "pafile_df = pd.read_csv(pafile)"
   ]
  },
  {
   "cell_type": "code",
   "execution_count": 6,
   "metadata": {},
   "outputs": [],
   "source": [
    "cityarray = file_df['CITY']\n",
    "#cityarray"
   ]
  },
  {
   "cell_type": "code",
   "execution_count": 7,
   "metadata": {},
   "outputs": [
    {
     "data": {
      "text/html": [
       "<div>\n",
       "<style scoped>\n",
       "    .dataframe tbody tr th:only-of-type {\n",
       "        vertical-align: middle;\n",
       "    }\n",
       "\n",
       "    .dataframe tbody tr th {\n",
       "        vertical-align: top;\n",
       "    }\n",
       "\n",
       "    .dataframe thead th {\n",
       "        text-align: right;\n",
       "    }\n",
       "</style>\n",
       "<table border=\"1\" class=\"dataframe\">\n",
       "  <thead>\n",
       "    <tr style=\"text-align: right;\">\n",
       "      <th></th>\n",
       "      <th>ID</th>\n",
       "      <th>Name</th>\n",
       "      <th>Date Created</th>\n",
       "      <th>Date Modified</th>\n",
       "      <th>NCA Chain</th>\n",
       "      <th>Invoice #</th>\n",
       "      <th>Invoice Date</th>\n",
       "      <th>Month</th>\n",
       "      <th>Gross</th>\n",
       "      <th>Currency</th>\n",
       "      <th>Net</th>\n",
       "      <th>Discount %</th>\n",
       "      <th>Rebate %</th>\n",
       "      <th>Rebate Amount</th>\n",
       "      <th>Customer</th>\n",
       "      <th>NCA Group</th>\n",
       "    </tr>\n",
       "  </thead>\n",
       "  <tbody>\n",
       "    <tr>\n",
       "      <th>0</th>\n",
       "      <td>1018364</td>\n",
       "      <td>425-5643</td>\n",
       "      <td>9/6/2018</td>\n",
       "      <td>9/17/2018</td>\n",
       "      <td>Sodexo</td>\n",
       "      <td>425-5643</td>\n",
       "      <td>9/1/2018</td>\n",
       "      <td>September</td>\n",
       "      <td>225.0</td>\n",
       "      <td>NaN</td>\n",
       "      <td>191.25</td>\n",
       "      <td>15.0</td>\n",
       "      <td>10.0</td>\n",
       "      <td>22.5</td>\n",
       "      <td>NCC - Food Court 2</td>\n",
       "      <td>Sodexo</td>\n",
       "    </tr>\n",
       "    <tr>\n",
       "      <th>1</th>\n",
       "      <td>1018365</td>\n",
       "      <td>425-5644</td>\n",
       "      <td>9/6/2018</td>\n",
       "      <td>9/17/2018</td>\n",
       "      <td>Sodexo</td>\n",
       "      <td>425-5644</td>\n",
       "      <td>9/1/2018</td>\n",
       "      <td>September</td>\n",
       "      <td>240.0</td>\n",
       "      <td>NaN</td>\n",
       "      <td>204.00</td>\n",
       "      <td>15.0</td>\n",
       "      <td>10.0</td>\n",
       "      <td>24.0</td>\n",
       "      <td>Moravian College (Blue &amp; Grey)</td>\n",
       "      <td>Sodexo</td>\n",
       "    </tr>\n",
       "    <tr>\n",
       "      <th>2</th>\n",
       "      <td>1018366</td>\n",
       "      <td>425-5645</td>\n",
       "      <td>9/6/2018</td>\n",
       "      <td>9/17/2018</td>\n",
       "      <td>Sodexo</td>\n",
       "      <td>425-5645</td>\n",
       "      <td>9/1/2018</td>\n",
       "      <td>September</td>\n",
       "      <td>195.0</td>\n",
       "      <td>NaN</td>\n",
       "      <td>165.75</td>\n",
       "      <td>15.0</td>\n",
       "      <td>10.0</td>\n",
       "      <td>19.5</td>\n",
       "      <td>Lehigh Valley Muhlenberg Hospital</td>\n",
       "      <td>Sodexo</td>\n",
       "    </tr>\n",
       "    <tr>\n",
       "      <th>3</th>\n",
       "      <td>1018367</td>\n",
       "      <td>425-5648</td>\n",
       "      <td>9/6/2018</td>\n",
       "      <td>9/17/2018</td>\n",
       "      <td>Sodexo</td>\n",
       "      <td>425-5648</td>\n",
       "      <td>9/1/2018</td>\n",
       "      <td>September</td>\n",
       "      <td>240.0</td>\n",
       "      <td>NaN</td>\n",
       "      <td>204.00</td>\n",
       "      <td>15.0</td>\n",
       "      <td>10.0</td>\n",
       "      <td>24.0</td>\n",
       "      <td>Muhlenberg University food ct</td>\n",
       "      <td>Sodexo</td>\n",
       "    </tr>\n",
       "    <tr>\n",
       "      <th>4</th>\n",
       "      <td>1018368</td>\n",
       "      <td>425-5649</td>\n",
       "      <td>9/6/2018</td>\n",
       "      <td>10/22/2018</td>\n",
       "      <td>ARA</td>\n",
       "      <td>425-5649</td>\n",
       "      <td>9/1/2018</td>\n",
       "      <td>September</td>\n",
       "      <td>60.0</td>\n",
       "      <td>-99.0</td>\n",
       "      <td>51.00</td>\n",
       "      <td>15.0</td>\n",
       "      <td>10.0</td>\n",
       "      <td>6.0</td>\n",
       "      <td>Aramark Chubb CPI (Bldg A) - Whitehouse</td>\n",
       "      <td>Aramark</td>\n",
       "    </tr>\n",
       "  </tbody>\n",
       "</table>\n",
       "</div>"
      ],
      "text/plain": [
       "        ID      Name Date Created Date Modified NCA Chain Invoice #  \\\n",
       "0  1018364  425-5643     9/6/2018     9/17/2018    Sodexo  425-5643   \n",
       "1  1018365  425-5644     9/6/2018     9/17/2018    Sodexo  425-5644   \n",
       "2  1018366  425-5645     9/6/2018     9/17/2018    Sodexo  425-5645   \n",
       "3  1018367  425-5648     9/6/2018     9/17/2018    Sodexo  425-5648   \n",
       "4  1018368  425-5649     9/6/2018    10/22/2018       ARA  425-5649   \n",
       "\n",
       "  Invoice Date      Month  Gross  Currency     Net  Discount %  Rebate %  \\\n",
       "0     9/1/2018  September  225.0       NaN  191.25        15.0      10.0   \n",
       "1     9/1/2018  September  240.0       NaN  204.00        15.0      10.0   \n",
       "2     9/1/2018  September  195.0       NaN  165.75        15.0      10.0   \n",
       "3     9/1/2018  September  240.0       NaN  204.00        15.0      10.0   \n",
       "4     9/1/2018  September   60.0     -99.0   51.00        15.0      10.0   \n",
       "\n",
       "   Rebate Amount                                 Customer NCA Group  \n",
       "0           22.5                       NCC - Food Court 2    Sodexo  \n",
       "1           24.0           Moravian College (Blue & Grey)    Sodexo  \n",
       "2           19.5        Lehigh Valley Muhlenberg Hospital    Sodexo  \n",
       "3           24.0            Muhlenberg University food ct    Sodexo  \n",
       "4            6.0  Aramark Chubb CPI (Bldg A) - Whitehouse   Aramark  "
      ]
     },
     "execution_count": 7,
     "metadata": {},
     "output_type": "execute_result"
    }
   ],
   "source": [
    "pafile_df.head()"
   ]
  },
  {
   "cell_type": "code",
   "execution_count": 8,
   "metadata": {},
   "outputs": [],
   "source": [
    "cleanPA_df = pafile_df[[\"NCA Chain\", \"Customer\", \"Gross\", \"Net\", \"Rebate Amount\", \"Invoice Date\",\"Month\"]]"
   ]
  },
  {
   "cell_type": "code",
   "execution_count": 9,
   "metadata": {},
   "outputs": [
    {
     "data": {
      "text/html": [
       "<div>\n",
       "<style scoped>\n",
       "    .dataframe tbody tr th:only-of-type {\n",
       "        vertical-align: middle;\n",
       "    }\n",
       "\n",
       "    .dataframe tbody tr th {\n",
       "        vertical-align: top;\n",
       "    }\n",
       "\n",
       "    .dataframe thead th {\n",
       "        text-align: right;\n",
       "    }\n",
       "</style>\n",
       "<table border=\"1\" class=\"dataframe\">\n",
       "  <thead>\n",
       "    <tr style=\"text-align: right;\">\n",
       "      <th></th>\n",
       "      <th>NCA Chain</th>\n",
       "      <th>Customer</th>\n",
       "      <th>Gross</th>\n",
       "      <th>Net</th>\n",
       "      <th>Rebate Amount</th>\n",
       "      <th>Invoice Date</th>\n",
       "      <th>Month</th>\n",
       "    </tr>\n",
       "  </thead>\n",
       "  <tbody>\n",
       "    <tr>\n",
       "      <th>0</th>\n",
       "      <td>Sodexo</td>\n",
       "      <td>NCC - Food Court 2</td>\n",
       "      <td>225.0</td>\n",
       "      <td>191.25</td>\n",
       "      <td>22.5</td>\n",
       "      <td>9/1/2018</td>\n",
       "      <td>September</td>\n",
       "    </tr>\n",
       "    <tr>\n",
       "      <th>1</th>\n",
       "      <td>Sodexo</td>\n",
       "      <td>Moravian College (Blue &amp; Grey)</td>\n",
       "      <td>240.0</td>\n",
       "      <td>204.00</td>\n",
       "      <td>24.0</td>\n",
       "      <td>9/1/2018</td>\n",
       "      <td>September</td>\n",
       "    </tr>\n",
       "    <tr>\n",
       "      <th>2</th>\n",
       "      <td>Sodexo</td>\n",
       "      <td>Lehigh Valley Muhlenberg Hospital</td>\n",
       "      <td>195.0</td>\n",
       "      <td>165.75</td>\n",
       "      <td>19.5</td>\n",
       "      <td>9/1/2018</td>\n",
       "      <td>September</td>\n",
       "    </tr>\n",
       "    <tr>\n",
       "      <th>3</th>\n",
       "      <td>Sodexo</td>\n",
       "      <td>Muhlenberg University food ct</td>\n",
       "      <td>240.0</td>\n",
       "      <td>204.00</td>\n",
       "      <td>24.0</td>\n",
       "      <td>9/1/2018</td>\n",
       "      <td>September</td>\n",
       "    </tr>\n",
       "    <tr>\n",
       "      <th>4</th>\n",
       "      <td>ARA</td>\n",
       "      <td>Aramark Chubb CPI (Bldg A) - Whitehouse</td>\n",
       "      <td>60.0</td>\n",
       "      <td>51.00</td>\n",
       "      <td>6.0</td>\n",
       "      <td>9/1/2018</td>\n",
       "      <td>September</td>\n",
       "    </tr>\n",
       "    <tr>\n",
       "      <th>5</th>\n",
       "      <td>ARA</td>\n",
       "      <td>Aramark Chubb CCI (Bldg B) - Whitehouse</td>\n",
       "      <td>116.0</td>\n",
       "      <td>98.60</td>\n",
       "      <td>11.6</td>\n",
       "      <td>9/1/2018</td>\n",
       "      <td>September</td>\n",
       "    </tr>\n",
       "    <tr>\n",
       "      <th>6</th>\n",
       "      <td>Sodexo</td>\n",
       "      <td>Lehigh Valley Hospital - Cedar Crest</td>\n",
       "      <td>150.0</td>\n",
       "      <td>127.50</td>\n",
       "      <td>15.0</td>\n",
       "      <td>9/1/2018</td>\n",
       "      <td>September</td>\n",
       "    </tr>\n",
       "    <tr>\n",
       "      <th>7</th>\n",
       "      <td>Sodexo</td>\n",
       "      <td>Moravian College (Kitchen)</td>\n",
       "      <td>120.0</td>\n",
       "      <td>102.00</td>\n",
       "      <td>12.0</td>\n",
       "      <td>9/1/2018</td>\n",
       "      <td>September</td>\n",
       "    </tr>\n",
       "    <tr>\n",
       "      <th>8</th>\n",
       "      <td>Sodexo</td>\n",
       "      <td>Muhlenberg University GQ</td>\n",
       "      <td>120.0</td>\n",
       "      <td>102.00</td>\n",
       "      <td>12.0</td>\n",
       "      <td>9/1/2018</td>\n",
       "      <td>September</td>\n",
       "    </tr>\n",
       "    <tr>\n",
       "      <th>9</th>\n",
       "      <td>Sodexo</td>\n",
       "      <td>DeSales University</td>\n",
       "      <td>180.0</td>\n",
       "      <td>153.00</td>\n",
       "      <td>18.0</td>\n",
       "      <td>9/1/2018</td>\n",
       "      <td>September</td>\n",
       "    </tr>\n",
       "  </tbody>\n",
       "</table>\n",
       "</div>"
      ],
      "text/plain": [
       "  NCA Chain                                 Customer  Gross     Net  \\\n",
       "0    Sodexo                       NCC - Food Court 2  225.0  191.25   \n",
       "1    Sodexo           Moravian College (Blue & Grey)  240.0  204.00   \n",
       "2    Sodexo        Lehigh Valley Muhlenberg Hospital  195.0  165.75   \n",
       "3    Sodexo            Muhlenberg University food ct  240.0  204.00   \n",
       "4       ARA  Aramark Chubb CPI (Bldg A) - Whitehouse   60.0   51.00   \n",
       "5       ARA  Aramark Chubb CCI (Bldg B) - Whitehouse  116.0   98.60   \n",
       "6    Sodexo     Lehigh Valley Hospital - Cedar Crest  150.0  127.50   \n",
       "7    Sodexo               Moravian College (Kitchen)  120.0  102.00   \n",
       "8    Sodexo                 Muhlenberg University GQ  120.0  102.00   \n",
       "9    Sodexo                       DeSales University  180.0  153.00   \n",
       "\n",
       "   Rebate Amount Invoice Date      Month  \n",
       "0           22.5     9/1/2018  September  \n",
       "1           24.0     9/1/2018  September  \n",
       "2           19.5     9/1/2018  September  \n",
       "3           24.0     9/1/2018  September  \n",
       "4            6.0     9/1/2018  September  \n",
       "5           11.6     9/1/2018  September  \n",
       "6           15.0     9/1/2018  September  \n",
       "7           12.0     9/1/2018  September  \n",
       "8           12.0     9/1/2018  September  \n",
       "9           18.0     9/1/2018  September  "
      ]
     },
     "execution_count": 9,
     "metadata": {},
     "output_type": "execute_result"
    }
   ],
   "source": [
    "cleanPA_df.head(10)"
   ]
  },
  {
   "cell_type": "code",
   "execution_count": 10,
   "metadata": {},
   "outputs": [
    {
     "data": {
      "text/plain": [
       "38"
      ]
     },
     "execution_count": 10,
     "metadata": {},
     "output_type": "execute_result"
    }
   ],
   "source": [
    "#file_df.count()\n",
    "#file_df[\"ACTUAL SALES VOLUME\"].mean()\n",
    "cleanPA_df[\"Customer\"].nunique()"
   ]
  },
  {
   "cell_type": "code",
   "execution_count": 11,
   "metadata": {},
   "outputs": [],
   "source": [
    "Monthunique = cleanPA_df[\"Month\"].nunique()"
   ]
  },
  {
   "cell_type": "code",
   "execution_count": 12,
   "metadata": {},
   "outputs": [],
   "source": [
    "#file_df.dtypes"
   ]
  },
  {
   "cell_type": "code",
   "execution_count": 13,
   "metadata": {},
   "outputs": [
    {
     "data": {
      "text/plain": [
       "NCA Chain         object\n",
       "Customer          object\n",
       "Gross            float64\n",
       "Net              float64\n",
       "Rebate Amount    float64\n",
       "Invoice Date      object\n",
       "Month             object\n",
       "dtype: object"
      ]
     },
     "execution_count": 13,
     "metadata": {},
     "output_type": "execute_result"
    }
   ],
   "source": [
    "cleanPA_df.dtypes"
   ]
  },
  {
   "cell_type": "code",
   "execution_count": 14,
   "metadata": {},
   "outputs": [],
   "source": [
    "#cleanPA_df[\"Net\"] = pd.to_numeric(cleanPA_df[\"Net\"],errors='coerce')\n",
    "#cleanPA_df[\"Gross\"] = pd.to_numeric(cleanPA_df[\"Gross\"],errors = 'coerce')\n",
    "#cleanPA_df[cleanPA_df.columns[2:5]].replace('[\\$,]','',regex=True).astype(float)"
   ]
  },
  {
   "cell_type": "code",
   "execution_count": 15,
   "metadata": {},
   "outputs": [],
   "source": [
    "#cleanPA_df[\"Net\"] = cleanPA_df[\"Net\"].astype(str).astype(float)\n",
    "#cleanPA_df[\"Rebate Amount\"] = cleanPA_df[\"Rebate Amount\"].astype(str).astype(float)\n",
    "#cleanPA_df[\"Gross\"] = cleanPA_df[\"Gross\"].astype(str).astype(float)"
   ]
  },
  {
   "cell_type": "code",
   "execution_count": 16,
   "metadata": {},
   "outputs": [],
   "source": [
    "#cleanPA_df.dtypes"
   ]
  },
  {
   "cell_type": "code",
   "execution_count": 17,
   "metadata": {},
   "outputs": [],
   "source": [
    "#file_df[\"ACTUAL SALES VOLUME\"].min()\n",
    "totalGross = cleanPA_df[\"Gross\"].sum()"
   ]
  },
  {
   "cell_type": "code",
   "execution_count": 18,
   "metadata": {},
   "outputs": [],
   "source": [
    "totalNet = cleanPA_df[\"Net\"].sum()"
   ]
  },
  {
   "cell_type": "code",
   "execution_count": 19,
   "metadata": {},
   "outputs": [],
   "source": [
    "avgNet = cleanPA_df[\"Net\"].mean()"
   ]
  },
  {
   "cell_type": "code",
   "execution_count": 20,
   "metadata": {},
   "outputs": [
    {
     "data": {
      "text/plain": [
       "42091.56"
      ]
     },
     "execution_count": 20,
     "metadata": {},
     "output_type": "execute_result"
    }
   ],
   "source": [
    "totalGross"
   ]
  },
  {
   "cell_type": "code",
   "execution_count": 21,
   "metadata": {},
   "outputs": [],
   "source": [
    "Netwithnonca = totalNet + 10918.06"
   ]
  },
  {
   "cell_type": "code",
   "execution_count": 22,
   "metadata": {},
   "outputs": [
    {
     "data": {
      "text/plain": [
       "37436.53999999999"
      ]
     },
     "execution_count": 22,
     "metadata": {},
     "output_type": "execute_result"
    }
   ],
   "source": [
    "Netwithnonca\n"
   ]
  },
  {
   "cell_type": "code",
   "execution_count": 23,
   "metadata": {},
   "outputs": [
    {
     "data": {
      "text/plain": [
       "0.8894072826001221"
      ]
     },
     "execution_count": 23,
     "metadata": {},
     "output_type": "execute_result"
    }
   ],
   "source": [
    "Netwithnonca/totalGross"
   ]
  },
  {
   "cell_type": "code",
   "execution_count": 24,
   "metadata": {},
   "outputs": [
    {
     "data": {
      "text/plain": [
       "array(['9/1/2018', '9/6/2018', '9/7/2018', '9/8/2018', '9/13/2018',\n",
       "       '9/14/2018', '9/15/2018', '9/20/2018', '9/21/2018', '9/22/2018',\n",
       "       '9/27/2018', '9/29/2018', '9/30/2018', '10/4/2018', '10/6/2018',\n",
       "       '10/11/2018', '10/13/2018', '10/18/2018', '10/20/2018',\n",
       "       '10/23/2018', '10/25/2018', '10/27/2018', '10/29/2018',\n",
       "       '10/31/2018'], dtype=object)"
      ]
     },
     "execution_count": 24,
     "metadata": {},
     "output_type": "execute_result"
    }
   ],
   "source": [
    "cleanPA_df[\"Invoice Date\"].unique()"
   ]
  },
  {
   "cell_type": "code",
   "execution_count": 25,
   "metadata": {},
   "outputs": [],
   "source": [
    "Septnetrev = cleanPA_df.loc[cleanPA_df[\"Month\"] == \"September\",:]"
   ]
  },
  {
   "cell_type": "code",
   "execution_count": 26,
   "metadata": {},
   "outputs": [],
   "source": [
    "Octnetrev = cleanPA_df.loc[cleanPA_df[\"Month\"] == \"October\",:]"
   ]
  },
  {
   "cell_type": "code",
   "execution_count": 27,
   "metadata": {},
   "outputs": [
    {
     "data": {
      "text/html": [
       "<div>\n",
       "<style scoped>\n",
       "    .dataframe tbody tr th:only-of-type {\n",
       "        vertical-align: middle;\n",
       "    }\n",
       "\n",
       "    .dataframe tbody tr th {\n",
       "        vertical-align: top;\n",
       "    }\n",
       "\n",
       "    .dataframe thead th {\n",
       "        text-align: right;\n",
       "    }\n",
       "</style>\n",
       "<table border=\"1\" class=\"dataframe\">\n",
       "  <thead>\n",
       "    <tr style=\"text-align: right;\">\n",
       "      <th></th>\n",
       "      <th>NCA Chain</th>\n",
       "      <th>Customer</th>\n",
       "      <th>Gross</th>\n",
       "      <th>Net</th>\n",
       "      <th>Rebate Amount</th>\n",
       "      <th>Invoice Date</th>\n",
       "      <th>Month</th>\n",
       "    </tr>\n",
       "  </thead>\n",
       "  <tbody>\n",
       "    <tr>\n",
       "      <th>130</th>\n",
       "      <td>Sodexo</td>\n",
       "      <td>Lehigh Univ. (Hawks Nest)</td>\n",
       "      <td>168.0</td>\n",
       "      <td>142.80</td>\n",
       "      <td>16.8</td>\n",
       "      <td>10/4/2018</td>\n",
       "      <td>October</td>\n",
       "    </tr>\n",
       "    <tr>\n",
       "      <th>131</th>\n",
       "      <td>Sodexo</td>\n",
       "      <td>Lehigh Univ. (UC1-Kitchen/Grill)</td>\n",
       "      <td>135.0</td>\n",
       "      <td>114.75</td>\n",
       "      <td>13.5</td>\n",
       "      <td>10/4/2018</td>\n",
       "      <td>October</td>\n",
       "    </tr>\n",
       "    <tr>\n",
       "      <th>132</th>\n",
       "      <td>Sodexo</td>\n",
       "      <td>TCNJ - TRADITIONS</td>\n",
       "      <td>192.0</td>\n",
       "      <td>163.20</td>\n",
       "      <td>19.2</td>\n",
       "      <td>10/4/2018</td>\n",
       "      <td>October</td>\n",
       "    </tr>\n",
       "    <tr>\n",
       "      <th>133</th>\n",
       "      <td>Sodexo</td>\n",
       "      <td>TCNJ - TDUBS</td>\n",
       "      <td>256.0</td>\n",
       "      <td>217.60</td>\n",
       "      <td>25.6</td>\n",
       "      <td>10/4/2018</td>\n",
       "      <td>October</td>\n",
       "    </tr>\n",
       "    <tr>\n",
       "      <th>134</th>\n",
       "      <td>Sodexo</td>\n",
       "      <td>TCNJ - FOOD COURT</td>\n",
       "      <td>160.0</td>\n",
       "      <td>136.00</td>\n",
       "      <td>16.0</td>\n",
       "      <td>10/4/2018</td>\n",
       "      <td>October</td>\n",
       "    </tr>\n",
       "  </tbody>\n",
       "</table>\n",
       "</div>"
      ],
      "text/plain": [
       "    NCA Chain                          Customer  Gross     Net  Rebate Amount  \\\n",
       "130    Sodexo         Lehigh Univ. (Hawks Nest)  168.0  142.80           16.8   \n",
       "131    Sodexo  Lehigh Univ. (UC1-Kitchen/Grill)  135.0  114.75           13.5   \n",
       "132    Sodexo                 TCNJ - TRADITIONS  192.0  163.20           19.2   \n",
       "133    Sodexo                      TCNJ - TDUBS  256.0  217.60           25.6   \n",
       "134    Sodexo                 TCNJ - FOOD COURT  160.0  136.00           16.0   \n",
       "\n",
       "    Invoice Date    Month  \n",
       "130    10/4/2018  October  \n",
       "131    10/4/2018  October  \n",
       "132    10/4/2018  October  \n",
       "133    10/4/2018  October  \n",
       "134    10/4/2018  October  "
      ]
     },
     "execution_count": 27,
     "metadata": {},
     "output_type": "execute_result"
    }
   ],
   "source": [
    "Octnetrev.head()"
   ]
  },
  {
   "cell_type": "code",
   "execution_count": 28,
   "metadata": {},
   "outputs": [],
   "source": [
    "NCAgroup = cleanPA_df.groupby([\"NCA Chain\"])"
   ]
  },
  {
   "cell_type": "code",
   "execution_count": 29,
   "metadata": {},
   "outputs": [],
   "source": [
    "Monthgroup = cleanPA_df.groupby([\"Month\"])"
   ]
  },
  {
   "cell_type": "code",
   "execution_count": 30,
   "metadata": {
    "scrolled": true
   },
   "outputs": [
    {
     "data": {
      "text/plain": [
       "NCA Chain\n",
       "ARA        1920.0\n",
       "SGE         210.0\n",
       "Sodexo    29043.5\n",
       "Name: Gross, dtype: float64"
      ]
     },
     "execution_count": 30,
     "metadata": {},
     "output_type": "execute_result"
    }
   ],
   "source": [
    "NCAgroup[\"Gross\"].sum()"
   ]
  },
  {
   "cell_type": "code",
   "execution_count": null,
   "metadata": {},
   "outputs": [],
   "source": []
  },
  {
   "cell_type": "code",
   "execution_count": 69,
   "metadata": {},
   "outputs": [],
   "source": [
    "twogroup = NCAgroup[\"Net\"].sum()"
   ]
  },
  {
   "cell_type": "code",
   "execution_count": 70,
   "metadata": {},
   "outputs": [
    {
     "data": {
      "text/plain": [
       "NCA Chain\n",
       "ARA        1632.00\n",
       "SGE         199.50\n",
       "Sodexo    24686.98\n",
       "Name: Net, dtype: float64"
      ]
     },
     "execution_count": 70,
     "metadata": {},
     "output_type": "execute_result"
    }
   ],
   "source": [
    "twogroup"
   ]
  },
  {
   "cell_type": "code",
   "execution_count": 71,
   "metadata": {},
   "outputs": [],
   "source": [
    "mgroup = NCAgroup[\"Month\"].nunique()"
   ]
  },
  {
   "cell_type": "code",
   "execution_count": 72,
   "metadata": {},
   "outputs": [
    {
     "data": {
      "text/plain": [
       "NCA Chain\n",
       "ARA       2\n",
       "SGE       2\n",
       "Sodexo    2\n",
       "Name: Month, dtype: int64"
      ]
     },
     "execution_count": 72,
     "metadata": {},
     "output_type": "execute_result"
    }
   ],
   "source": [
    "mgroup"
   ]
  },
  {
   "cell_type": "code",
   "execution_count": 73,
   "metadata": {},
   "outputs": [],
   "source": [
    "x_axis = np.arange(len(mgroup))\n",
    "tick_locations = [value for value in x_axis]"
   ]
  },
  {
   "cell_type": "code",
   "execution_count": 74,
   "metadata": {},
   "outputs": [
    {
     "data": {
      "image/png": "[encoded data removed]",
      "text/plain": [
       "<Figure size 1440x720 with 1 Axes>"
      ]
     },
     "metadata": {
      "needs_background": "light"
     },
     "output_type": "display_data"
    }
   ],
   "source": [
    "plt.figure(figsize=(20,10))\n",
    "plt.bar(x_axis, twogroup, color='r', alpha=0.5, align=\"center\")\n",
    "plt.xticks(tick_locations, mgroup, rotation=\"vertical\")\n",
    "\n",
    "plt.title(\"Months in PA\")\n",
    "plt.xlabel(\"Month\")\n",
    "plt.ylabel(\"Net Revenue\")\n",
    "#plt.tight_lay\n",
    "plt.savefig(\"NCARev.png\")\n",
    "plt.show()"
   ]
  },
  {
   "cell_type": "code",
   "execution_count": 43,
   "metadata": {},
   "outputs": [],
   "source": [
    "groupNet = Monthgroup[\"Net\"].sum()"
   ]
  },
  {
   "cell_type": "code",
   "execution_count": 44,
   "metadata": {},
   "outputs": [
    {
     "data": {
      "text/plain": [
       "Month\n",
       "October      12600.60\n",
       "September    13917.88\n",
       "Name: Net, dtype: float64"
      ]
     },
     "execution_count": 44,
     "metadata": {},
     "output_type": "execute_result"
    }
   ],
   "source": [
    "groupNet"
   ]
  },
  {
   "cell_type": "code",
   "execution_count": 59,
   "metadata": {},
   "outputs": [],
   "source": [
    "countgroup = Monthgroup[\"Net\"].sum()"
   ]
  },
  {
   "cell_type": "code",
   "execution_count": 60,
   "metadata": {},
   "outputs": [
    {
     "data": {
      "text/plain": [
       "Month\n",
       "October      12600.60\n",
       "September    13917.88\n",
       "Name: Net, dtype: float64"
      ]
     },
     "execution_count": 60,
     "metadata": {},
     "output_type": "execute_result"
    }
   ],
   "source": [
    "countgroup"
   ]
  },
  {
   "cell_type": "code",
   "execution_count": 45,
   "metadata": {},
   "outputs": [
    {
     "data": {
      "text/html": [
       "<div>\n",
       "<style scoped>\n",
       "    .dataframe tbody tr th:only-of-type {\n",
       "        vertical-align: middle;\n",
       "    }\n",
       "\n",
       "    .dataframe tbody tr th {\n",
       "        vertical-align: top;\n",
       "    }\n",
       "\n",
       "    .dataframe thead th {\n",
       "        text-align: right;\n",
       "    }\n",
       "</style>\n",
       "<table border=\"1\" class=\"dataframe\">\n",
       "  <thead>\n",
       "    <tr style=\"text-align: right;\">\n",
       "      <th></th>\n",
       "      <th>Gross</th>\n",
       "      <th>Net</th>\n",
       "      <th>Rebate Amount</th>\n",
       "    </tr>\n",
       "    <tr>\n",
       "      <th>Month</th>\n",
       "      <th></th>\n",
       "      <th></th>\n",
       "      <th></th>\n",
       "    </tr>\n",
       "  </thead>\n",
       "  <tbody>\n",
       "    <tr>\n",
       "      <th>October</th>\n",
       "      <td>19574.75</td>\n",
       "      <td>12600.60</td>\n",
       "      <td>1474.60</td>\n",
       "    </tr>\n",
       "    <tr>\n",
       "      <th>September</th>\n",
       "      <td>22516.81</td>\n",
       "      <td>13917.88</td>\n",
       "      <td>1621.75</td>\n",
       "    </tr>\n",
       "  </tbody>\n",
       "</table>\n",
       "</div>"
      ],
      "text/plain": [
       "              Gross       Net  Rebate Amount\n",
       "Month                                       \n",
       "October    19574.75  12600.60        1474.60\n",
       "September  22516.81  13917.88        1621.75"
      ]
     },
     "execution_count": 45,
     "metadata": {},
     "output_type": "execute_result"
    }
   ],
   "source": [
    "Monthgroup.sum()"
   ]
  },
  {
   "cell_type": "code",
   "execution_count": 65,
   "metadata": {},
   "outputs": [],
   "source": [
    "x_axis = np.arange(len(Monthgroup))\n",
    "tick_locations = [value for value in x_axis]"
   ]
  },
  {
   "cell_type": "code",
   "execution_count": 67,
   "metadata": {},
   "outputs": [
    {
     "data": {
      "image/png": "[encoded data removed]",
      "text/plain": [
       "<Figure size 1440x720 with 1 Axes>"
      ]
     },
     "metadata": {
      "needs_background": "light"
     },
     "output_type": "display_data"
    }
   ],
   "source": [
    "plt.figure(figsize=(20,10))\n",
    "plt.bar(x_axis, groupNet, color='r', alpha=0.5, align=\"center\")\n",
    "plt.xticks(tick_locations, countgroup, rotation=\"vertical\")\n",
    "\n",
    "plt.title(\"Months in PA\")\n",
    "plt.xlabel(\"Month\")\n",
    "plt.ylabel(\"Net Revenue\")\n",
    "#plt.tight_layout()\n",
    "plt.savefig(\"PAMonthlyRev.png\")\n",
    "plt.show()"
   ]
  },
  {
   "cell_type": "code",
   "execution_count": null,
   "metadata": {},
   "outputs": [],
   "source": [
    "file_df[\"ACTUAL SALES VOLUME\"].max()"
   ]
  },
  {
   "cell_type": "code",
   "execution_count": null,
   "metadata": {},
   "outputs": [],
   "source": [
    "belmar_df = file_df.loc[file_df[\"CITY\"] == \"Belmar\",:]"
   ]
  },
  {
   "cell_type": "code",
   "execution_count": null,
   "metadata": {},
   "outputs": [],
   "source": [
    "belmar_new_df = belmar_df[[\"COMPANY NAME\",\"CITY\",\"LOCATION ADDRESS\", \"LAST NAME\", \"FIRST NAME\",\"PHONE NUMBER\", \"SALES VOLUME RANGE\",\"ACTUAL SALES VOLUME\"]]"
   ]
  },
  {
   "cell_type": "code",
   "execution_count": null,
   "metadata": {},
   "outputs": [],
   "source": [
    "belmar_new_df"
   ]
  },
  {
   "cell_type": "code",
   "execution_count": null,
   "metadata": {},
   "outputs": [],
   "source": [
    "squan_df = file_df.loc[file_df[\"CITY\"] == \"Manasquan\",:]"
   ]
  },
  {
   "cell_type": "code",
   "execution_count": null,
   "metadata": {},
   "outputs": [],
   "source": [
    "squan_new_df = squan_df[[\"COMPANY NAME\",\"CITY\",\"LOCATION ADDRESS\", \"LAST NAME\", \"FIRST NAME\",\"PHONE NUMBER\", \"SALES VOLUME RANGE\",\"ACTUAL SALES VOLUME\"]]"
   ]
  },
  {
   "cell_type": "code",
   "execution_count": null,
   "metadata": {},
   "outputs": [],
   "source": [
    "squan_new_df.nunique()"
   ]
  },
  {
   "cell_type": "code",
   "execution_count": null,
   "metadata": {},
   "outputs": [],
   "source": [
    "belmar_new_df.nunique()"
   ]
  },
  {
   "cell_type": "code",
   "execution_count": null,
   "metadata": {},
   "outputs": [],
   "source": [
    "squan_new_df"
   ]
  },
  {
   "cell_type": "code",
   "execution_count": null,
   "metadata": {},
   "outputs": [],
   "source": [
    "WLB_df = file_df.loc[file_df[\"CITY\"] == \"West Long Branch\",:]"
   ]
  },
  {
   "cell_type": "code",
   "execution_count": null,
   "metadata": {},
   "outputs": [],
   "source": [
    "WLB_new_df = WLB_df[[\"COMPANY NAME\",\"CITY\",\"LOCATION ADDRESS\", \"LAST NAME\", \"FIRST NAME\",\"PHONE NUMBER\", \"SALES VOLUME RANGE\",\"ACTUAL SALES VOLUME\"]]"
   ]
  },
  {
   "cell_type": "code",
   "execution_count": null,
   "metadata": {},
   "outputs": [],
   "source": [
    "WLB_new_df.nunique()"
   ]
  },
  {
   "cell_type": "code",
   "execution_count": null,
   "metadata": {},
   "outputs": [],
   "source": [
    "WLB_new_df"
   ]
  },
  {
   "cell_type": "code",
   "execution_count": null,
   "metadata": {},
   "outputs": [],
   "source": [
    "eatontown_df = file_df.loc[file_df[\"CITY\"] == \"Eatontown\",:]"
   ]
  },
  {
   "cell_type": "code",
   "execution_count": null,
   "metadata": {},
   "outputs": [],
   "source": [
    "eatontown_new_df = eatontown_df[[\"COMPANY NAME\",\"CITY\",\"LOCATION ADDRESS\", \"LAST NAME\", \"FIRST NAME\",\"PHONE NUMBER\", \"SALES VOLUME RANGE\",\"ACTUAL SALES VOLUME\"]]"
   ]
  },
  {
   "cell_type": "code",
   "execution_count": null,
   "metadata": {},
   "outputs": [],
   "source": [
    "eatontown_new_df.nunique()"
   ]
  },
  {
   "cell_type": "code",
   "execution_count": null,
   "metadata": {},
   "outputs": [],
   "source": [
    "eatontown_new_df"
   ]
  },
  {
   "cell_type": "code",
   "execution_count": null,
   "metadata": {},
   "outputs": [],
   "source": [
    "rb_df = file_df.loc[file_df[\"CITY\"] == \"Red Bank\",:]"
   ]
  },
  {
   "cell_type": "code",
   "execution_count": null,
   "metadata": {},
   "outputs": [],
   "source": [
    "rb_new_df = rb_df[[\"COMPANY NAME\",\"CITY\",\"LOCATION ADDRESS\", \"LAST NAME\", \"FIRST NAME\",\"PHONE NUMBER\", \"SALES VOLUME RANGE\",\"ACTUAL SALES VOLUME\"]]"
   ]
  },
  {
   "cell_type": "code",
   "execution_count": null,
   "metadata": {},
   "outputs": [],
   "source": [
    "rb_new_df.count()"
   ]
  },
  {
   "cell_type": "code",
   "execution_count": null,
   "metadata": {},
   "outputs": [],
   "source": [
    "rb_new_df"
   ]
  },
  {
   "cell_type": "code",
   "execution_count": null,
   "metadata": {},
   "outputs": [],
   "source": [
    "groupedbystatus = file_df.groupby([\"CITY\"])\n",
    "groupedbystatus.sum()"
   ]
  },
  {
   "cell_type": "code",
   "execution_count": null,
   "metadata": {},
   "outputs": [],
   "source": [
    "#groupedbystatus[\"CITY\"].count()\n",
    "citycountSIC = groupedbystatus[\"CITY\"].count()\n",
    "citycountSIC"
   ]
  },
  {
   "cell_type": "code",
   "execution_count": null,
   "metadata": {},
   "outputs": [],
   "source": [
    "cityuniSIC = groupedbystatus[\"CITY\"].unique()\n",
    "cityuniSIC"
   ]
  },
  {
   "cell_type": "code",
   "execution_count": null,
   "metadata": {},
   "outputs": [],
   "source": [
    "citymaxSIC = groupedbystatus[\"CITY\"].count().max()\n",
    "citymaxSIC"
   ]
  },
  {
   "cell_type": "code",
   "execution_count": null,
   "metadata": {},
   "outputs": [],
   "source": [
    "import matplotlib.pyplot as plt\n",
    "import numpy as np\n"
   ]
  },
  {
   "cell_type": "code",
   "execution_count": null,
   "metadata": {},
   "outputs": [],
   "source": []
  },
  {
   "cell_type": "code",
   "execution_count": null,
   "metadata": {},
   "outputs": [],
   "source": [
    "x_axis = np.arange(len(cityarray))\n",
    "tick_locations = [value for value in x_axis]"
   ]
  },
  {
   "cell_type": "code",
   "execution_count": null,
   "metadata": {},
   "outputs": [],
   "source": [
    "plt.figure(figsize=(20,10))\n",
    "plt.bar(x_axis, citycountSIC, color='r', alpha=0.5, align=\"center\")\n",
    "plt.xticks(tick_locations, cityuniSIC, rotation=\"vertical\")\n",
    "\n",
    "plt.title(\"Cities in County\")\n",
    "plt.xlabel(\"City\")\n",
    "plt.ylabel(\"Count of SIC In County\")\n",
    "#plt.tight_layout()\n",
    "plt.savefig(\"avgfiltafranchisecounty.png\")\n",
    "plt.show()"
   ]
  },
  {
   "cell_type": "code",
   "execution_count": null,
   "metadata": {},
   "outputs": [],
   "source": [
    "#cityarray"
   ]
  },
  {
   "cell_type": "code",
   "execution_count": null,
   "metadata": {},
   "outputs": [],
   "source": [
    "file_df[\"ACTUAL SALES VOLUME\"]"
   ]
  },
  {
   "cell_type": "code",
   "execution_count": null,
   "metadata": {},
   "outputs": [],
   "source": [
    "sales = groupedbystatus[\"ACTUAL SALES VOLUME\"].sum()\n",
    "salesadj = sales/100"
   ]
  },
  {
   "cell_type": "code",
   "execution_count": null,
   "metadata": {},
   "outputs": [],
   "source": [
    "plt.figure(figsize=(20,10))\n",
    "plt.bar(x_axis, salesadj, color='r', alpha=0.5, align=\"center\")\n",
    "plt.xticks(tick_locations, cityuniSIC, rotation=\"vertical\")\n",
    "\n",
    "plt.title(\"Cities in County\")\n",
    "plt.xlabel(\"City\")\n",
    "plt.ylabel(\"Count of Sales Reported In County\")\n",
    "#plt.tight_layout()\n",
    "plt.savefig(\"avgfiltasalescounty.png\")\n",
    "plt.show()"
   ]
  },
  {
   "cell_type": "code",
   "execution_count": null,
   "metadata": {},
   "outputs": [],
   "source": [
    "Freeholdcity= file_df.loc[file_df[\"CITY\"] == \"Freehold\", :]\n",
    "Totalcity = file_df[\"CITY\"].count()\n",
    "\n",
    "#Freeholdpercent = Freeholdcity/Totalcity\n",
    "#Other = (1-Freeholdpercent)"
   ]
  },
  {
   "cell_type": "code",
   "execution_count": null,
   "metadata": {},
   "outputs": [],
   "source": [
    "Freeholdcount = Freeholdcity[\"CITY\"].count()\n",
    "Freeholdcount"
   ]
  },
  {
   "cell_type": "code",
   "execution_count": null,
   "metadata": {},
   "outputs": [],
   "source": [
    "TCADJ = Totalcity - 150 "
   ]
  },
  {
   "cell_type": "code",
   "execution_count": null,
   "metadata": {},
   "outputs": [],
   "source": [
    "Freeholdpercent = Freeholdcount/TCADJ\n",
    "Other = (1-Freeholdpercent)"
   ]
  },
  {
   "cell_type": "code",
   "execution_count": null,
   "metadata": {},
   "outputs": [],
   "source": []
  },
  {
   "cell_type": "code",
   "execution_count": null,
   "metadata": {},
   "outputs": [],
   "source": [
    "types = [\"Freeholdpercent\", \"Other\"]\n",
    "percents = [Freeholdpercent, Other]\n",
    "colors = [\"Blue\", \"Green\"]\n",
    "explode = (0.1, 0)\n",
    "\n",
    "plt.title(\"% of Freehold vs rest of county\")\n",
    "plt.pie(percents, explode=explode, labels=types, colors=colors,\n",
    "        autopct=\"%1.1f%%\", shadow=True, startangle=280)\n",
    "#plt.axis(\"equal\")\n",
    "plt.savefig(\"Freeholdpie.png\")\n",
    "plt.show()"
   ]
  },
  {
   "cell_type": "code",
   "execution_count": null,
   "metadata": {},
   "outputs": [],
   "source": []
  }
 ],
 "metadata": {
  "kernelspec": {
   "display_name": "Python 3",
   "language": "python",
   "name": "python3"
  },
  "language_info": {
   "codemirror_mode": {
    "name": "ipython",
    "version": 3
   },
   "file_extension": ".py",
   "mimetype": "text/x-python",
   "name": "python",
   "nbconvert_exporter": "python",
   "pygments_lexer": "ipython3",
   "version": "3.6.6"
  }
 },
 "nbformat": 4,
 "nbformat_minor": 2
}
